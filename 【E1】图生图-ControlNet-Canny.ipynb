{
 "cells": [
  {
   "cell_type": "markdown",
   "id": "8fdee633-9014-4d6b-ada0-5acf62f7228a",
   "metadata": {},
   "source": [
    "# 图生图-ControlNet-Canny\n",
    "\n",
    "同济子豪兄 2023-6-13\n",
    "\n",
    "MMagic文档：https://github.com/open-mmlab/mmagic/tree/main/configs/controlnet\n",
    "\n",
    "ControlNet官方Repo：https://github.com/lllyasviel/ControlNet"
   ]
  },
  {
   "cell_type": "markdown",
   "id": "c31719b7-dee2-4df3-b1c3-566b10cfe8e1",
   "metadata": {},
   "source": [
    "## 进入 MMagic 主目录"
   ]
  },
  {
   "cell_type": "code",
   "execution_count": 1,
   "id": "560af927-513e-4b12-8d80-d1e963cdf914",
   "metadata": {},
   "outputs": [],
   "source": [
    "import os\n",
    "os.chdir('../../mmagic')"
   ]
  },
  {
   "cell_type": "code",
   "execution_count": 2,
   "id": "2dedc676-658f-4f98-99a3-3b7028e9ee03",
   "metadata": {},
   "outputs": [],
   "source": [
    "# !conda install -c conda-forge ipywidgets -y"
   ]
  },
  {
   "cell_type": "markdown",
   "id": "47c326ac-cb9e-4f74-86fc-4fd005ecde1a",
   "metadata": {
    "tags": []
   },
   "source": [
    "## 导入工具包"
   ]
  },
  {
   "cell_type": "code",
   "execution_count": 3,
   "id": "6c20e460-2c2c-4fbb-b36d-b0432cd3dcb9",
   "metadata": {},
   "outputs": [
    {
     "name": "stderr",
     "output_type": "stream",
     "text": [
      "/root/miniconda3/envs/mmagic2/lib/python3.9/site-packages/tqdm/auto.py:21: TqdmWarning: IProgress not found. Please update jupyter and ipywidgets. See https://ipywidgets.readthedocs.io/en/stable/user_install.html\n",
      "  from .autonotebook import tqdm as notebook_tqdm\n"
     ]
    }
   ],
   "source": [
    "import cv2\n",
    "import numpy as np\n",
    "import mmcv\n",
    "from mmengine import Config\n",
    "from PIL import Image\n",
    "\n",
    "from mmagic.registry import MODELS\n",
    "from mmagic.utils import register_all_modules\n",
    "\n",
    "register_all_modules()"
   ]
  },
  {
   "cell_type": "code",
   "execution_count": 4,
   "id": "d01cc83d-da12-4ec9-afe4-0b79861f5622",
   "metadata": {
    "scrolled": true
   },
   "outputs": [],
   "source": [
    "# !pip install accelerate\n",
    "# # !conda install xformers -c  xformers -y\n",
    "# !pip install -U xformers"
   ]
  },
  {
   "cell_type": "code",
   "execution_count": 5,
   "id": "b5d3091d-5b8f-4b57-a232-0ff411a867e9",
   "metadata": {},
   "outputs": [],
   "source": [
    "# !python -m xformers.info|"
   ]
  },
  {
   "cell_type": "code",
   "execution_count": 6,
   "id": "100b5fe6-2dac-45dc-aca8-aa885d387bef",
   "metadata": {},
   "outputs": [],
   "source": [
    "# !pip install -U xformers"
   ]
  },
  {
   "cell_type": "markdown",
   "id": "a7576099-c20b-4a1b-9048-c45660bfec1c",
   "metadata": {},
   "source": [
    "## 载入ControlNet模型"
   ]
  },
  {
   "cell_type": "code",
   "execution_count": 7,
   "id": "8518a546-32bb-4456-84cb-c3618d2fae8e",
   "metadata": {},
   "outputs": [
    {
     "name": "stdout",
     "output_type": "stream",
     "text": [
      "06/19 02:58:17 - mmengine - \u001b[4m\u001b[97mINFO\u001b[0m - Set model dtype to 'torch.float32'.\n",
      "06/19 02:58:20 - mmengine - \u001b[4m\u001b[97mINFO\u001b[0m - Creating runwayml/stable-diffusion-v1-5 by 'HuggingFace'\n"
     ]
    },
    {
     "name": "stderr",
     "output_type": "stream",
     "text": [
      "/mmagic/mmagic/models/archs/wrapper.py:149: FutureWarning: Accessing config attribute `block_out_channels` directly via 'AutoencoderKL' object attribute is deprecated. Please access 'block_out_channels' over 'AutoencoderKL's config object instead, e.g. 'unet.config.block_out_channels'.\n",
      "  return getattr(self.model, name)\n"
     ]
    },
    {
     "name": "stdout",
     "output_type": "stream",
     "text": [
      "06/19 02:58:23 - mmengine - \u001b[4m\u001b[97mINFO\u001b[0m - Enable Xformers for HuggingFace Diffusers' module 'vae'.\n",
      "06/19 02:58:23 - mmengine - \u001b[4m\u001b[97mINFO\u001b[0m - Enable Xformers for HuggingFace Diffusers' module 'unet'.\n",
      "06/19 02:58:23 - mmengine - \u001b[4m\u001b[97mINFO\u001b[0m - Set model dtype to 'torch.float32'.\n",
      "06/19 02:58:23 - mmengine - \u001b[4m\u001b[97mINFO\u001b[0m - Enable Xformers for HuggingFace Diffusers' module 'model'.\n"
     ]
    }
   ],
   "source": [
    "cfg = Config.fromfile('configs/controlnet/controlnet-canny.py')\n",
    "controlnet = MODELS.build(cfg.model).cuda()"
   ]
  },
  {
   "cell_type": "markdown",
   "id": "4c3b870a-bb9d-42b3-88d2-2ed28f306788",
   "metadata": {},
   "source": [
    "## 输入Canny边缘图"
   ]
  },
  {
   "cell_type": "code",
   "execution_count": 18,
   "id": "e4bc31da-1761-4345-9286-a9c0aef7e027",
   "metadata": {},
   "outputs": [],
   "source": [
    "control_url = '/MMagic_Tutorials/0614/origin_image.jpg'\n",
    "control_img = mmcv.imread(control_url)\n",
    "\n",
    "# Apply Canny edge detection\n",
    "control = cv2.Canny(control_img, 100, 200)\n",
    "\n",
    "# Expand dimensions to make it a 3 channel image\n",
    "control = control[:, :, None]\n",
    "control = np.concatenate([control] * 3, axis=2)\n",
    "\n",
    "# Now control is a numpy array, you can check it and then save it\n",
    "if isinstance(control, np.ndarray):\n",
    "    cv2.imwrite('canny_image.jpg', control)\n",
    "else:\n",
    "    print('Image processing failed')\n"
   ]
  },
  {
   "cell_type": "markdown",
   "id": "2e877871-65b3-4138-9c86-0ed53573c2a3",
   "metadata": {},
   "source": [
    "## 咒语Prompt"
   ]
  },
  {
   "cell_type": "code",
   "execution_count": 19,
   "id": "bc0f5065-86d2-49dd-82bc-bd4c78d5f366",
   "metadata": {},
   "outputs": [],
   "source": [
    "prompt = 'Chinese-style decoration.'"
   ]
  },
  {
   "cell_type": "markdown",
   "id": "b09e0ec1-13ae-4cc6-85ea-c7c43e5378f9",
   "metadata": {},
   "source": [
    "## 执行预测"
   ]
  },
  {
   "cell_type": "code",
   "execution_count": null,
   "id": "c58640b1-548b-4df2-b137-39a84108c899",
   "metadata": {},
   "outputs": [],
   "source": [
    "output_dict = controlnet.infer(prompt, control=control)\n",
    "samples = output_dict['samples']\n",
    "for idx, sample in enumerate(samples):\n",
    "    sample.save(f'sample_{idx}.png')\n",
    "controls = output_dict['controls']\n",
    "for idx, control in enumerate(controls):\n",
    "    control.save(f'control_{idx}.png')"
   ]
  },
  {
   "cell_type": "code",
   "execution_count": null,
   "id": "71e39a40-c5ed-4496-b58d-d109f410b586",
   "metadata": {},
   "outputs": [],
   "source": []
  }
 ],
 "metadata": {
  "kernelspec": {
   "display_name": "Python 3 (ipykernel)",
   "language": "python",
   "name": "python3"
  },
  "language_info": {
   "codemirror_mode": {
    "name": "ipython",
    "version": 3
   },
   "file_extension": ".py",
   "mimetype": "text/x-python",
   "name": "python",
   "nbconvert_exporter": "python",
   "pygments_lexer": "ipython3",
   "version": "3.9.16"
  }
 },
 "nbformat": 4,
 "nbformat_minor": 5
}
